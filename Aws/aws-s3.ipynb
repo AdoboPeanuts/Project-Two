import csv
import boto3

with open ('project2.csv', 'r') as input:
    next(input)
    reader = csv.reader(input)
    for line in reader:
        access_key_id = line[2]
        secret_access_key = line[3]
        
photo = 'aws_01.png'

client = boto3.client('rekognition',
                      aws_access_key_id = access_key_id,
                      aws_secret_access_key = secret_access_key)
    
response = client.detect_protective_equipment(Image={'S3Object': 'Bucket': 'awstestphotos', 'Name': photo}},
        SummarizationAttributes={'MaxLabels':3, 'MinConfidence':80, 'RequiredEquipmentTypes':['FACE_COVER']})

print(response)