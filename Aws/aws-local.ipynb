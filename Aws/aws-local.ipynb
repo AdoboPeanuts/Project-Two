{
 "cells": [
  {
   "cell_type": "code",
   "execution_count": 7,
   "source": [
    "import csv\r\n",
    "import boto3\r\n",
    "\r\n",
    "from botocore.config import Config\r\n",
    "\r\n",
    "with open ('project2.csv', 'r') as input:\r\n",
    "    next(input)\r\n",
    "    reader = csv.reader(input)\r\n",
    "    for line in reader:\r\n",
    "        access_key_id = line[2]\r\n",
    "        secret_access_key = line[3]\r\n",
    "        \r\n",
    "photo = 'aws_01.png'\r\n",
    "\r\n",
    "client = boto3.client('rekognition',\r\n",
    "                      aws_access_key_id = access_key_id,\r\n",
    "                      aws_secret_access_key = secret_access_key,\r\n",
    "                      region_name = 'us-west-2')\r\n",
    "\r\n",
    "with open(photo, 'rb') as source_image:\r\n",
    "    source_bytes = source_image.read()\r\n",
    "    \r\n",
    "response = client.detect_protective_equipment(Image={'Bytes': source_bytes}, \r\n",
    "        SummarizationAttributes={'MinConfidence':80, 'RequiredEquipmentTypes':['FACE_COVER']})\r\n",
    "\r\n",
    "\r\n"
   ],
   "outputs": [],
   "metadata": {}
  },
  {
   "cell_type": "code",
   "execution_count": 8,
   "source": [
    "print(response)"
   ],
   "outputs": [
    {
     "output_type": "stream",
     "name": "stdout",
     "text": [
      "{'ProtectiveEquipmentModelVersion': '1.0', 'Persons': [{'BodyParts': [{'Name': 'FACE', 'Confidence': 99.80422973632812, 'EquipmentDetections': [{'BoundingBox': {'Width': 0.10592225193977356, 'Height': 0.12687161564826965, 'Left': 0.556527853012085, 'Top': 0.22671788930892944}, 'Confidence': 99.97148895263672, 'Type': 'FACE_COVER', 'CoversBodyPart': {'Confidence': 83.25743865966797, 'Value': True}}]}, {'Name': 'LEFT_HAND', 'Confidence': 99.42292785644531, 'EquipmentDetections': []}, {'Name': 'RIGHT_HAND', 'Confidence': 97.05364990234375, 'EquipmentDetections': []}, {'Name': 'HEAD', 'Confidence': 99.99864196777344, 'EquipmentDetections': []}], 'BoundingBox': {'Width': 0.49666666984558105, 'Height': 0.9139999747276306, 'Left': 0.3866666555404663, 'Top': 0.06400000303983688}, 'Confidence': 99.99504089355469, 'Id': 0}], 'Summary': {'PersonsWithRequiredEquipment': [0], 'PersonsWithoutRequiredEquipment': [], 'PersonsIndeterminate': []}, 'ResponseMetadata': {'RequestId': '9928055c-63af-4076-b19e-d9bb7ed20e85', 'HTTPStatusCode': 200, 'HTTPHeaders': {'content-type': 'application/x-amz-json-1.1', 'date': 'Sat, 04 Sep 2021 23:51:16 GMT', 'x-amzn-requestid': '9928055c-63af-4076-b19e-d9bb7ed20e85', 'content-length': '879', 'connection': 'keep-alive'}, 'RetryAttempts': 0}}\n"
     ]
    }
   ],
   "metadata": {}
  }
 ],
 "metadata": {
  "kernelspec": {
   "name": "python3",
   "display_name": "Python 3.8.11 64-bit ('shiro': conda)"
  },
  "language_info": {
   "codemirror_mode": {
    "name": "ipython",
    "version": 3
   },
   "file_extension": ".py",
   "mimetype": "text/x-python",
   "name": "python",
   "nbconvert_exporter": "python",
   "pygments_lexer": "ipython3",
   "version": "3.8.11"
  },
  "interpreter": {
   "hash": "a85a359beca9f334f6354a84a75dfe4b7ab5b314222324c8e324c214504c4735"
  }
 },
 "nbformat": 4,
 "nbformat_minor": 5
}