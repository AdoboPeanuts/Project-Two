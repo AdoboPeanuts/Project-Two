{
 "cells": [
  {
   "cell_type": "code",
   "execution_count": 7,
   "id": "3c381586",
   "metadata": {},
   "outputs": [],
   "source": [
    "import csv\n",
    "import boto3\n",
    "\n",
    "with open ('project2.csv', 'r') as input:\n",
    "    next(input)\n",
    "    reader = csv.reader(input)\n",
    "    for line in reader:\n",
    "        access_key_id = line[2]\n",
    "        secret_access_key = line[3]\n",
    "        \n",
    "photo = 'aws_01.png'\n",
    "\n",
    "client = boto3.client('rekognition',\n",
    "                      aws_access_key_id = access_key_id,\n",
    "                      aws_secret_access_key = secret_access_key)\n",
    "\n",
    "with open(photo, 'rb') as source_image:\n",
    "    source_bytes = source_image.read()\n",
    "    \n",
    "response = client.detect_protective_equipment(Image={'Bytes': source_bytes}, \n",
    "        SummarizationAttributes={'MinConfidence':80, 'RequiredEquipmentTypes':['FACE_COVER']})\n",
    "\n",
    "\n"
   ]
  },
  {
   "cell_type": "code",
   "execution_count": 8,
   "id": "3c523e72",
   "metadata": {},
   "outputs": [
    {
     "name": "stdout",
     "output_type": "stream",
     "text": [
      "{'ProtectiveEquipmentModelVersion': '1.0', 'Persons': [{'BodyParts': [{'Name': 'FACE', 'Confidence': 99.80422973632812, 'EquipmentDetections': [{'BoundingBox': {'Width': 0.10592225193977356, 'Height': 0.12687161564826965, 'Left': 0.556527853012085, 'Top': 0.22671788930892944}, 'Confidence': 99.97148895263672, 'Type': 'FACE_COVER', 'CoversBodyPart': {'Confidence': 83.25743865966797, 'Value': True}}]}, {'Name': 'LEFT_HAND', 'Confidence': 99.42292785644531, 'EquipmentDetections': []}, {'Name': 'RIGHT_HAND', 'Confidence': 97.05364990234375, 'EquipmentDetections': []}, {'Name': 'HEAD', 'Confidence': 99.99864196777344, 'EquipmentDetections': []}], 'BoundingBox': {'Width': 0.49666666984558105, 'Height': 0.9139999747276306, 'Left': 0.3866666555404663, 'Top': 0.06400000303983688}, 'Confidence': 99.99504089355469, 'Id': 0}], 'Summary': {'PersonsWithRequiredEquipment': [0], 'PersonsWithoutRequiredEquipment': [], 'PersonsIndeterminate': []}, 'ResponseMetadata': {'RequestId': 'c64520d4-f2e4-4037-93e2-dfb271cc0257', 'HTTPStatusCode': 200, 'HTTPHeaders': {'content-type': 'application/x-amz-json-1.1', 'date': 'Thu, 02 Sep 2021 18:04:43 GMT', 'x-amzn-requestid': 'c64520d4-f2e4-4037-93e2-dfb271cc0257', 'content-length': '879', 'connection': 'keep-alive'}, 'RetryAttempts': 0}}\n"
     ]
    }
   ],
   "source": [
    "print(response)"
   ]
  },
  {
   "cell_type": "code",
   "execution_count": null,
   "id": "5ef7c08e",
   "metadata": {},
   "outputs": [],
   "source": []
  }
 ],
 "metadata": {
  "kernelspec": {
   "display_name": "conda_python3",
   "language": "python",
   "name": "conda_python3"
  },
  "language_info": {
   "codemirror_mode": {
    "name": "ipython",
    "version": 3
   },
   "file_extension": ".py",
   "mimetype": "text/x-python",
   "name": "python",
   "nbconvert_exporter": "python",
   "pygments_lexer": "ipython3",
   "version": "3.6.13"
  }
 },
 "nbformat": 4,
 "nbformat_minor": 5
}
