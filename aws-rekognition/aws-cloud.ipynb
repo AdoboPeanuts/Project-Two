{
 "cells": [
  {
   "cell_type": "code",
   "execution_count": 1,
   "source": [
    "# Create a IAM user with programmatic access\r\n",
    "# Attached the following policies to the user; \r\n",
    "# AmazonS3FullAccess\r\n",
    "# AmazonRekognitionFullAccess\r\n",
    "\r\n",
    "\r\n",
    "# Import the library for this project\r\n",
    "\r\n",
    "import csv\r\n",
    "import boto3\r\n",
    "\r\n",
    "# Open the iam csv file and make sure the access key id and secret access key is valid\r\n",
    "\r\n",
    "with open ('credentials.csv', 'r') as input:\r\n",
    "    next(input)\r\n",
    "    reader = csv.reader(input)\r\n",
    "    for line in reader:\r\n",
    "        access_key_id = line[2]\r\n",
    "        secret_access_key = line[3]\r\n",
    "\r\n",
    "# Designate the right S3 bucket name\r\n",
    "\r\n",
    "bucket = 'awstestphotos'\r\n",
    "\r\n",
    "# Choose a photo that you wish to validate. \r\n",
    "# Make sure the photo is uploaded to the correct S3 bucket\r\n",
    "photo = 'example_02.png'\r\n",
    "\r\n",
    "# Call in Amazon Rekognition API and input user credentials\r\n",
    "\r\n",
    "client = boto3.client('rekognition',\r\n",
    "                      aws_access_key_id = access_key_id,\r\n",
    "                      aws_secret_access_key = secret_access_key,\r\n",
    "                      region_name = 'us-west-2')\r\n",
    "\r\n",
    "response = client.detect_protective_equipment(Image={'S3Object':{'Bucket': bucket,'Name': photo }}, \r\n",
    "        SummarizationAttributes={'MinConfidence':95, 'RequiredEquipmentTypes':['FACE_COVER']})\r\n",
    "    "
   ],
   "outputs": [],
   "metadata": {}
  },
  {
   "cell_type": "code",
   "execution_count": 2,
   "source": [
    "# Show the results\r\n",
    "print(response)"
   ],
   "outputs": [
    {
     "output_type": "stream",
     "name": "stdout",
     "text": [
      "{'ProtectiveEquipmentModelVersion': '1.0', 'Persons': [{'BodyParts': [{'Name': 'FACE', 'Confidence': 99.9220199584961, 'EquipmentDetections': []}, {'Name': 'HEAD', 'Confidence': 99.9867172241211, 'EquipmentDetections': []}], 'BoundingBox': {'Width': 0.6775000095367432, 'Height': 0.9175000190734863, 'Left': 0.23749999701976776, 'Top': 0.07999999821186066}, 'Confidence': 99.9731674194336, 'Id': 0}], 'Summary': {'PersonsWithRequiredEquipment': [], 'PersonsWithoutRequiredEquipment': [0], 'PersonsIndeterminate': []}, 'ResponseMetadata': {'RequestId': '562cd038-f800-4b83-9aff-318af8078bf0', 'HTTPStatusCode': 200, 'HTTPHeaders': {'content-type': 'application/x-amz-json-1.1', 'date': 'Mon, 06 Sep 2021 18:10:01 GMT', 'x-amzn-requestid': '562cd038-f800-4b83-9aff-318af8078bf0', 'content-length': '482', 'connection': 'keep-alive'}, 'RetryAttempts': 0}}\n"
     ]
    }
   ],
   "metadata": {}
  }
 ],
 "metadata": {
  "kernelspec": {
   "name": "python3",
   "display_name": "Python 3.8.11 64-bit ('shiro': conda)"
  },
  "language_info": {
   "codemirror_mode": {
    "name": "ipython",
    "version": 3
   },
   "file_extension": ".py",
   "mimetype": "text/x-python",
   "name": "python",
   "nbconvert_exporter": "python",
   "pygments_lexer": "ipython3",
   "version": "3.8.11"
  },
  "interpreter": {
   "hash": "a85a359beca9f334f6354a84a75dfe4b7ab5b314222324c8e324c214504c4735"
  }
 },
 "nbformat": 4,
 "nbformat_minor": 5
}