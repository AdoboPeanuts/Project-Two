{
 "cells": [
  {
   "cell_type": "code",
   "execution_count": 7,
   "source": [
    "import csv\r\n",
    "import boto3\r\n",
    "\r\n",
    "with open ('project2.csv', 'r') as input:\r\n",
    "    next(input)\r\n",
    "    reader = csv.reader(input)\r\n",
    "    for line in reader:\r\n",
    "        access_key_id = line[2]\r\n",
    "        secret_access_key = line[3]\r\n",
    "        \r\n",
    "photo = ('C:\\\\Users\\\\johnm\\\\Documents\\\\GitHub\\\\Project-Two\\\\Examples\\\\example_02.png')\r\n",
    "\r\n",
    "client = boto3.client('rekognition',\r\n",
    "                      aws_access_key_id = access_key_id,\r\n",
    "                      aws_secret_access_key = secret_access_key,\r\n",
    "                      region_name = 'us-west-2')\r\n",
    "\r\n",
    "with open(photo, 'rb') as source_image:\r\n",
    "    source_bytes = source_image.read()\r\n",
    "    \r\n",
    "response = client.detect_protective_equipment(Image={'Bytes': source_bytes}, \r\n",
    "        SummarizationAttributes={'MinConfidence':80, 'RequiredEquipmentTypes':['FACE_COVER']})\r\n",
    "\r\n",
    "\r\n"
   ],
   "outputs": [],
   "metadata": {}
  },
  {
   "cell_type": "code",
   "execution_count": 8,
   "source": [
    "print(response)"
   ],
   "outputs": [
    {
     "output_type": "stream",
     "name": "stdout",
     "text": [
      "{'ProtectiveEquipmentModelVersion': '1.0', 'Persons': [{'BodyParts': [{'Name': 'FACE', 'Confidence': 99.9220199584961, 'EquipmentDetections': []}, {'Name': 'HEAD', 'Confidence': 99.9867172241211, 'EquipmentDetections': []}], 'BoundingBox': {'Width': 0.6775000095367432, 'Height': 0.9175000190734863, 'Left': 0.23749999701976776, 'Top': 0.07999999821186066}, 'Confidence': 99.9731674194336, 'Id': 0}], 'Summary': {'PersonsWithRequiredEquipment': [], 'PersonsWithoutRequiredEquipment': [0], 'PersonsIndeterminate': []}, 'ResponseMetadata': {'RequestId': '289ebec9-4204-48d7-8ff3-fd9c2edaa15f', 'HTTPStatusCode': 200, 'HTTPHeaders': {'content-type': 'application/x-amz-json-1.1', 'date': 'Sun, 05 Sep 2021 00:04:48 GMT', 'x-amzn-requestid': '289ebec9-4204-48d7-8ff3-fd9c2edaa15f', 'content-length': '482', 'connection': 'keep-alive'}, 'RetryAttempts': 0}}\n"
     ]
    }
   ],
   "metadata": {}
  }
 ],
 "metadata": {
  "kernelspec": {
   "name": "python3",
   "display_name": "Python 3.8.11 64-bit ('shiro': conda)"
  },
  "language_info": {
   "codemirror_mode": {
    "name": "ipython",
    "version": 3
   },
   "file_extension": ".py",
   "mimetype": "text/x-python",
   "name": "python",
   "nbconvert_exporter": "python",
   "pygments_lexer": "ipython3",
   "version": "3.8.11"
  },
  "interpreter": {
   "hash": "a85a359beca9f334f6354a84a75dfe4b7ab5b314222324c8e324c214504c4735"
  }
 },
 "nbformat": 4,
 "nbformat_minor": 5
}