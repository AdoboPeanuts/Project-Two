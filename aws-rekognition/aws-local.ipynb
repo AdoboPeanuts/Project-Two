{
 "cells": [
  {
   "cell_type": "code",
   "execution_count": 1,
   "source": [
    "import csv\r\n",
    "import boto3\r\n",
    "\r\n",
    "with open ('credentials.csv', 'r') as input:\r\n",
    "    next(input)\r\n",
    "    reader = csv.reader(input)\r\n",
    "    for line in reader:\r\n",
    "        access_key_id = line[2]\r\n",
    "        secret_access_key = line[3]\r\n",
    "        \r\n",
    "photo = ('aws_02.png')\r\n",
    "\r\n",
    "client = boto3.client('rekognition',\r\n",
    "                      aws_access_key_id = access_key_id,\r\n",
    "                      aws_secret_access_key = secret_access_key,\r\n",
    "                      region_name = 'us-west-2')\r\n",
    "\r\n",
    "with open(photo, 'rb') as source_image:\r\n",
    "    source_bytes = source_image.read()\r\n",
    "    \r\n",
    "response = client.detect_protective_equipment(Image={'Bytes': source_bytes}, \r\n",
    "        SummarizationAttributes={'MinConfidence':80, 'RequiredEquipmentTypes':['FACE_COVER']})\r\n"
   ],
   "outputs": [],
   "metadata": {}
  },
  {
   "cell_type": "code",
   "execution_count": 2,
   "source": [
    "print(response)"
   ],
   "outputs": [
    {
     "output_type": "stream",
     "name": "stdout",
     "text": [
      "{'ProtectiveEquipmentModelVersion': '1.0', 'Persons': [{'BodyParts': [{'Name': 'FACE', 'Confidence': 99.9220199584961, 'EquipmentDetections': []}, {'Name': 'HEAD', 'Confidence': 99.9867172241211, 'EquipmentDetections': []}], 'BoundingBox': {'Width': 0.6775000095367432, 'Height': 0.9175000190734863, 'Left': 0.23749999701976776, 'Top': 0.07999999821186066}, 'Confidence': 99.9731674194336, 'Id': 0}], 'Summary': {'PersonsWithRequiredEquipment': [], 'PersonsWithoutRequiredEquipment': [0], 'PersonsIndeterminate': []}, 'ResponseMetadata': {'RequestId': 'a08877bb-d60f-4f4f-b04d-3e7e64d2de1d', 'HTTPStatusCode': 200, 'HTTPHeaders': {'content-type': 'application/x-amz-json-1.1', 'date': 'Mon, 06 Sep 2021 01:13:05 GMT', 'x-amzn-requestid': 'a08877bb-d60f-4f4f-b04d-3e7e64d2de1d', 'content-length': '482', 'connection': 'keep-alive'}, 'RetryAttempts': 0}}\n"
     ]
    }
   ],
   "metadata": {}
  }
 ],
 "metadata": {
  "kernelspec": {
   "name": "python3",
   "display_name": "Python 3.8.11 64-bit ('shiro': conda)"
  },
  "language_info": {
   "codemirror_mode": {
    "name": "ipython",
    "version": 3
   },
   "file_extension": ".py",
   "mimetype": "text/x-python",
   "name": "python",
   "nbconvert_exporter": "python",
   "pygments_lexer": "ipython3",
   "version": "3.8.11"
  },
  "interpreter": {
   "hash": "a85a359beca9f334f6354a84a75dfe4b7ab5b314222324c8e324c214504c4735"
  }
 },
 "nbformat": 4,
 "nbformat_minor": 5
}